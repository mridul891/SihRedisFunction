{
 "cells": [
  {
   "cell_type": "code",
   "execution_count": 1,
   "id": "aea26e70-da90-4ae1-9157-6e22932bd50a",
   "metadata": {
    "scrolled": true
   },
   "outputs": [],
   "source": [
    "# pip install redis "
   ]
  },
  {
   "cell_type": "code",
   "execution_count": 20,
   "id": "adde31f5-b181-452f-9ce5-aaca61bfe9a4",
   "metadata": {},
   "outputs": [],
   "source": [
    "import redis \n",
    "import requests\n",
    "import time\n",
    "redis_client = redis.StrictRedis(host='localhost', port=6379, db=0)\n",
    "\n",
    "queue_name = \"my_queue\"\n"
   ]
  },
  {
   "cell_type": "code",
   "execution_count": 3,
   "id": "d9920f14-60a8-4615-9436-e60d804596fc",
   "metadata": {},
   "outputs": [
    {
     "name": "stdout",
     "output_type": "stream",
     "text": [
      "BJP, Congress get notices over poll code violation complaintsIn separate letters addressed to BJP President JP Nadda and Congress President Mallikarjun Kharge, the Election Commission has sought their responses to the complaints made by the rival party.\n"
     ]
    }
   ],
   "source": [
    "response = requests.get(\"https://webscrapper-bmoc.onrender.com/info\")\n",
    "data =response.json()\n",
    "print(data[0].get('title'))"
   ]
  },
  {
   "cell_type": "code",
   "execution_count": 21,
   "id": "b89cf3bd-8405-481e-b860-6b1af3da279a",
   "metadata": {},
   "outputs": [
    {
     "name": "stdout",
     "output_type": "stream",
     "text": [
      "All the data is been added to queue \"my_queue\"\n",
      "Popped value: \"Dhanush absolutely hated my performance: Nayanthara on Filmfare 2016 stage'Dhanush hated my performance in Naanum Rowdy Dhaan', said Nayanthara while receiving an award at Filmfare 2016. On November 16, the Annapoorani actor accused Dhanush for sending Rs 10 crore lawsuit over her Netflix documentary.\"\n",
      "Popped value: \"Explained: Nayanthara vs Dhanush controversy, and the loaded open letterIn her open letter, Nayanthara accused Dhanush of being a petty person, who doesn't 'practice what he preaches', and someone who wears a 'mask' for the crowd. But, what led to this outburst? Here's everything you need to know about the issue.\"\n",
      "Popped value: \"Diljit Dosanjh stands up for crying fans: Only those who have emotions can cryDiljit Dosanjh defended a girl who was mocked for crying at his Jaipur concert, saying he understands why people get emotional at his shows. He added, 'Only those who have emotions can cry.'\"\n",
      "Popped value: \"Ranveer Singh on fatherhood, life after daughter Dua's birth: Been on daddy duty…In a recent public appearance, actor Ranveer Singh opened up about the immense joy he has been experiencing since becoming a father to his daughter, Dua Padukone Singh. The video from the event is being widely circulated on social media.\"\n",
      "Popped value: \"G20 Summit in Brazil in focus as PM Modi departs for three-nation tourIndia, which hosted the summit last year, is part of the G20 troika along with Brazil and South Africa. Prime Minister Narendra Modi will also visit Nigeria and Guyana.\"\n",
      "Popped value: \"Mother-daughter duo accused of prostitution, dragged, assaulted by neighboursNeighbours allegedly barged into the house of a mother and daughter and assaulted them, accusing the duo of running a prostitution racket.\"\n",
      "Popped value: \"BCCI beware: Uday Shankar says Star-Viacom won't have FOMO for cricket rightsThe Disney Star India-Viacom18 merger has created a broadcasting powerhouse, which could change the landscape of cricket broadcasting. Uday Shankar, in an exclusive interview with India Today, explains why the merged entity won't chase deals out of the fear of missing out, leading to a potential shift in dynamics.\"\n",
      "Popped value: \"Mike Tyson vs Jake Paul: Was it a glorified sparring session in the end?The Mike Tyson vs Jake Paul captured the imagination of the fans with all eyes on the epic Netflix fight on November 15, Friday. However, as the dust settles with Paul getting the win over Tyson, many are left to wonder if it was nothing more than a glorified sparring session.\"\n",
      "Popped value: \"Eyewitness recounts Jhansi hospital horror: Nurse lit a matchstick and then...Jhansi hospital fire: Bhagwan Das was in the children's ward at the time of the incident as his son was admitted there. Here is what he said about how the fire broke out at Maharani Laxmi Bai Medical College.\"\n",
      "Popped value: \"Gujarat man, presumed dead, walks into his own memorial serviceThe family was holding the memorial service for the 43-year-old man when he unexpectedly walked into the ceremony, alive and well.\"\n",
      "Popped value: \"Question Time: Weekly News QuizThink you read the headlines this week? Let's test that!\"\n",
      "Popped value: \"Maharashtra Premier League: Tricky pitch for MVA, MahayutiThe Maharashtra Assembly elections are set for November 20. Two main groups are competing: the Maha Vikas Aghadi and the Mahayuti. It's going to be a tough challenge for both sides. Here's why.\"\n",
      "Popped value: \"Rohit Sharma welcomes second child with adorable message Rohit Sharma announced the arrival of his newborn baby with an adorable message on social media. Rohit and his wife Ritika Sajdeh became parents for the second time.\"\n",
      "Popped value: \"Shameful: Opposition slams VIP welcome to minister amid Jhansi hospital tragedyJhansi hospital fire: The Congress claimed that the entire hospital compound in Jhansi was cleaned and lime was sprinkled on the road to welcome the Deputy Chief Minister.\"\n",
      "Popped value: \"From the India Today Archives (1980): Institutions in the time of Janata PartyWe revisit INDIA TODAY's review of Arun Shourie's book 'Institutions in the Janata Phase' covering the exhilarating period of 1977\"\n",
      "Popped value: \"In Ooty: A burst of colours and calm right in the middle of tea gardensVibrant, rich colours are a way of life in Ooty. When you embark on the 2-hour journey from Coimbatore to this hill station, the vibrant fest begins right there.\"\n",
      "Popped value: \"Explained: Nayanthara vs Dhanush controversy, and the loaded open letterIn her open letter, Nayanthara accused Dhanush of being a petty person, who doesn't 'practice what he preaches', and someone who wears a 'mask' for the crowd. But, what led to this outburst? Here's everything you need to know about the issue.\"\n",
      "Popped value: \"Ramamurthy Naidu, younger brother of Chandrababu Naidu, dies at 72 Ramamurthy Naidu, younger brother of Chandrababu Naidu, died at the age of 72 after a prolonged illness. He had been hospitalised three days earlier and was on a ventilator.\"\n",
      "Popped value: \"Harnessing the Power of Data: IIM Kozhikode's Professional Certificate Programme in Advanced Data Analytics for ManagersEmpowering Managers with Data-Driven Insights for Strategic Decision-Making\"\n",
      "Popped value: \"Vivek Ramaswamy on DOGE plan: Elon Musk and I will take chainsaw to bureaucracyVivek Ramaswamy outlined ambitious plans for DOGE, stating that he and co-leader Elon Musk \"are in a position to start the mass deportations of millions of unelected federal bureaucrats out of the DC bureaucracy.\"\"\n",
      "Popped value: \"Rahul Gandhi's bags inspected by Election Commission officials in AmravatiElection Commission officials inspected Rahul Gandhi's bag in Amravati as INDIA bloc parties continued to accuse the poll body of selective action, a charge that the BJP dismissed.\"\n",
      "Popped value: \"Sukhbir Singh Badal, 62, resigns as Shiromani Akali Dal presidentSukhbir Singh Badal resigned as the president of the Shiromani Akali Dal, paving the way of the election of the new chief, former Punjab Education Minister Daljit S Cheema said in a tweet.\"\n",
      "Popped value: \"Nayanthara's damning post against Dhanush over documentary: You fester vengeanceAfter Dhanush sent a legal notice to Nayanthara seeking compensation for the unauthorised use of certain clips in her upcoming Netflix documentary, she responded with a lengthy note, slamming the allegations.\"\n",
      "Popped value: \"The timeless appeal of Shah Rukh Khan, Preity Zinta's Veer ZaaraVeer Zaara, starring Shah Rukh Khan and Preity Zinta, celebrates 20 years as a timeless classic that redefined cross-border romance. The film, directed by Yash Chopra, remains an emotional ode to love and sacrifice, resonating with audiences worldwide.\"\n",
      "Popped value: \"Curfew imposed, internet suspended in 7 Manipur districts after 6 found deadLarge-scale violence was reported in parts of Manipur's Imphal Valley districts as mobs stormed the residences of local MLAs and destroyed property in protest against the killing of three women and three children in Jiribam district.\"\n",
      "Popped value: \"Like Joe Biden, PM Modi is also losing his memory: Rahul GandhiAt a rally in Maharashtra's Amravati, Congress MP Rahul Gandhi claimed that Prime Minister Narendra Modi was suffering from memory loss like US President Joe Biden.\"\n",
      "Popped value: \"ICC revises Champions Trophy tour venues after BCCI's objectionICC announced a revised schedule for Champions Trophy's trophy tour on Saturday, November 16. India Today has learnt that the changes were made after objection from BCCI honourary secretary Jay Shah.\"\n",
      "Popped value: \"BJP, Congress get notices over poll code violation complaintsIn separate letters addressed to BJP President JP Nadda and Congress President Mallikarjun Kharge, the Election Commission has sought their responses to the complaints made by the rival party.\"\n",
      "Popped value: \"Dhanush absolutely hated my performance: Nayanthara on Filmfare 2016 stage'Dhanush hated my performance in Naanum Rowdy Dhaan', said Nayanthara while receiving an award at Filmfare 2016. On November 16, the Annapoorani actor accused Dhanush for sending Rs 10 crore lawsuit over her Netflix documentary.\"\n",
      "Popped value: \"Explained: Nayanthara vs Dhanush controversy, and the loaded open letterIn her open letter, Nayanthara accused Dhanush of being a petty person, who doesn't 'practice what he preaches', and someone who wears a 'mask' for the crowd. But, what led to this outburst? Here's everything you need to know about the issue.\"\n",
      "Popped value: \"Diljit Dosanjh stands up for crying fans: Only those who have emotions can cryDiljit Dosanjh defended a girl who was mocked for crying at his Jaipur concert, saying he understands why people get emotional at his shows. He added, 'Only those who have emotions can cry.'\"\n",
      "Popped value: \"Ranveer Singh on fatherhood, life after daughter Dua's birth: Been on daddy duty…In a recent public appearance, actor Ranveer Singh opened up about the immense joy he has been experiencing since becoming a father to his daughter, Dua Padukone Singh. The video from the event is being widely circulated on social media.\"\n",
      "Popped value: \"G20 Summit in Brazil in focus as PM Modi departs for three-nation tourIndia, which hosted the summit last year, is part of the G20 troika along with Brazil and South Africa. Prime Minister Narendra Modi will also visit Nigeria and Guyana.\"\n",
      "Popped value: \"Mother-daughter duo accused of prostitution, dragged, assaulted by neighboursNeighbours allegedly barged into the house of a mother and daughter and assaulted them, accusing the duo of running a prostitution racket.\"\n",
      "Popped value: \"BCCI beware: Uday Shankar says Star-Viacom won't have FOMO for cricket rightsThe Disney Star India-Viacom18 merger has created a broadcasting powerhouse, which could change the landscape of cricket broadcasting. Uday Shankar, in an exclusive interview with India Today, explains why the merged entity won't chase deals out of the fear of missing out, leading to a potential shift in dynamics.\"\n",
      "Popped value: \"Mike Tyson vs Jake Paul: Was it a glorified sparring session in the end?The Mike Tyson vs Jake Paul captured the imagination of the fans with all eyes on the epic Netflix fight on November 15, Friday. However, as the dust settles with Paul getting the win over Tyson, many are left to wonder if it was nothing more than a glorified sparring session.\"\n",
      "Popped value: \"Eyewitness recounts Jhansi hospital horror: Nurse lit a matchstick and then...Jhansi hospital fire: Bhagwan Das was in the children's ward at the time of the incident as his son was admitted there. Here is what he said about how the fire broke out at Maharani Laxmi Bai Medical College.\"\n",
      "Popped value: \"Gujarat man, presumed dead, walks into his own memorial serviceThe family was holding the memorial service for the 43-year-old man when he unexpectedly walked into the ceremony, alive and well.\"\n",
      "Popped value: \"Question Time: Weekly News QuizThink you read the headlines this week? Let's test that!\"\n",
      "Popped value: \"Maharashtra Premier League: Tricky pitch for MVA, MahayutiThe Maharashtra Assembly elections are set for November 20. Two main groups are competing: the Maha Vikas Aghadi and the Mahayuti. It's going to be a tough challenge for both sides. Here's why.\"\n",
      "Popped value: \"Rohit Sharma welcomes second child with adorable message Rohit Sharma announced the arrival of his newborn baby with an adorable message on social media. Rohit and his wife Ritika Sajdeh became parents for the second time.\"\n",
      "Popped value: \"Shameful: Opposition slams VIP welcome to minister amid Jhansi hospital tragedyJhansi hospital fire: The Congress claimed that the entire hospital compound in Jhansi was cleaned and lime was sprinkled on the road to welcome the Deputy Chief Minister.\"\n",
      "Popped value: \"From the India Today Archives (1980): Institutions in the time of Janata PartyWe revisit INDIA TODAY's review of Arun Shourie's book 'Institutions in the Janata Phase' covering the exhilarating period of 1977\"\n",
      "Popped value: \"In Ooty: A burst of colours and calm right in the middle of tea gardensVibrant, rich colours are a way of life in Ooty. When you embark on the 2-hour journey from Coimbatore to this hill station, the vibrant fest begins right there.\"\n",
      "Popped value: \"Explained: Nayanthara vs Dhanush controversy, and the loaded open letterIn her open letter, Nayanthara accused Dhanush of being a petty person, who doesn't 'practice what he preaches', and someone who wears a 'mask' for the crowd. But, what led to this outburst? Here's everything you need to know about the issue.\"\n",
      "Popped value: \"Ramamurthy Naidu, younger brother of Chandrababu Naidu, dies at 72 Ramamurthy Naidu, younger brother of Chandrababu Naidu, died at the age of 72 after a prolonged illness. He had been hospitalised three days earlier and was on a ventilator.\"\n",
      "Popped value: \"Harnessing the Power of Data: IIM Kozhikode's Professional Certificate Programme in Advanced Data Analytics for ManagersEmpowering Managers with Data-Driven Insights for Strategic Decision-Making\"\n",
      "Popped value: \"Vivek Ramaswamy on DOGE plan: Elon Musk and I will take chainsaw to bureaucracyVivek Ramaswamy outlined ambitious plans for DOGE, stating that he and co-leader Elon Musk \"are in a position to start the mass deportations of millions of unelected federal bureaucrats out of the DC bureaucracy.\"\"\n",
      "Popped value: \"Rahul Gandhi's bags inspected by Election Commission officials in AmravatiElection Commission officials inspected Rahul Gandhi's bag in Amravati as INDIA bloc parties continued to accuse the poll body of selective action, a charge that the BJP dismissed.\"\n",
      "Popped value: \"Sukhbir Singh Badal, 62, resigns as Shiromani Akali Dal presidentSukhbir Singh Badal resigned as the president of the Shiromani Akali Dal, paving the way of the election of the new chief, former Punjab Education Minister Daljit S Cheema said in a tweet.\"\n",
      "Popped value: \"Nayanthara's damning post against Dhanush over documentary: You fester vengeanceAfter Dhanush sent a legal notice to Nayanthara seeking compensation for the unauthorised use of certain clips in her upcoming Netflix documentary, she responded with a lengthy note, slamming the allegations.\"\n",
      "Popped value: \"The timeless appeal of Shah Rukh Khan, Preity Zinta's Veer ZaaraVeer Zaara, starring Shah Rukh Khan and Preity Zinta, celebrates 20 years as a timeless classic that redefined cross-border romance. The film, directed by Yash Chopra, remains an emotional ode to love and sacrifice, resonating with audiences worldwide.\"\n",
      "Popped value: \"Curfew imposed, internet suspended in 7 Manipur districts after 6 found deadLarge-scale violence was reported in parts of Manipur's Imphal Valley districts as mobs stormed the residences of local MLAs and destroyed property in protest against the killing of three women and three children in Jiribam district.\"\n",
      "Popped value: \"Like Joe Biden, PM Modi is also losing his memory: Rahul GandhiAt a rally in Maharashtra's Amravati, Congress MP Rahul Gandhi claimed that Prime Minister Narendra Modi was suffering from memory loss like US President Joe Biden.\"\n",
      "Popped value: \"ICC revises Champions Trophy tour venues after BCCI's objectionICC announced a revised schedule for Champions Trophy's trophy tour on Saturday, November 16. India Today has learnt that the changes were made after objection from BCCI honourary secretary Jay Shah.\"\n",
      "Popped value: \"BJP, Congress get notices over poll code violation complaintsIn separate letters addressed to BJP President JP Nadda and Congress President Mallikarjun Kharge, the Election Commission has sought their responses to the complaints made by the rival party.\"\n",
      "Queue is empty!\n"
     ]
    }
   ],
   "source": [
    "try:\n",
    "    # Insert data into the queue (push to the end)\n",
    "    for item in data:\n",
    "        # Extract the key from the dictionary and push it to the queue\n",
    "        for value in item.values():\n",
    "            redis_client.rpush(queue_name, value)\n",
    "            \n",
    "    print(f'All the data is been added to queue \"{queue_name}\"')\n",
    "    \n",
    "    time.sleep(10)\n",
    "    # Pop data from the queue (remove from the front)\n",
    "    while True:\n",
    "        result = redis_client.rpop(queue_name)  # Use rpop to get the last element\n",
    "        if result is None:\n",
    "            print(\"Queue is empty!\")\n",
    "            break\n",
    "        else:\n",
    "            print(f'Popped value: \"{result.decode()}\"')\n",
    "\n",
    "except redis.RedisError as e:\n",
    "    print(f\"Error: {e}\")"
   ]
  },
  {
   "cell_type": "code",
   "execution_count": null,
   "id": "d7d62a76-f711-40ad-9ab7-3d19ad8dd0b1",
   "metadata": {},
   "outputs": [],
   "source": []
  }
 ],
 "metadata": {
  "kernelspec": {
   "display_name": "Python 3 (ipykernel)",
   "language": "python",
   "name": "python3"
  },
  "language_info": {
   "codemirror_mode": {
    "name": "ipython",
    "version": 3
   },
   "file_extension": ".py",
   "mimetype": "text/x-python",
   "name": "python",
   "nbconvert_exporter": "python",
   "pygments_lexer": "ipython3",
   "version": "3.12.7"
  }
 },
 "nbformat": 4,
 "nbformat_minor": 5
}
